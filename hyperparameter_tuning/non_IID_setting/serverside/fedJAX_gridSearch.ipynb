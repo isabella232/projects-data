{
 "cells": [
  {
   "cell_type": "code",
   "execution_count": 1,
   "id": "monthly-istanbul",
   "metadata": {
    "scrolled": false
   },
   "outputs": [],
   "source": [
    "from copy import deepcopy\n",
    "import jax\n",
    "\n",
    "from federated_library.distributions import convert_to_federated_data\n",
    "from federated_library.dataset_loader import load_tf_dataset\n",
    "from federated_library.train_fed_avg import fed_avg_gridsearch"
   ]
  },
  {
   "cell_type": "code",
   "execution_count": null,
   "id": "c9b852bc",
   "metadata": {},
   "outputs": [],
   "source": [
    "print(jax.local_devices())"
   ]
  },
  {
   "cell_type": "code",
   "execution_count": null,
   "id": "important-toddler",
   "metadata": {},
   "outputs": [],
   "source": [
    "def run(params, ds, test_split, ds_info, display):\n",
    "    clients_set = params['clients_set']\n",
    "    skews_set = params['skews_set']\n",
    "    \n",
    "    params = deepcopy(params)\n",
    "    del params['clients_set']\n",
    "    del params['skews_set']\n",
    "    \n",
    "    for nr_clients in clients_set:\n",
    "        ds_info['num_clients'] = nr_clients\n",
    "        for skew in skews_set:\n",
    "            params['skew'] = [skew]\n",
    "            fedavg_hyperparams_grid_search_res = fed_avg_gridsearch(\n",
    "                params, ds, test_split, ds_info, display=display\n",
    "            )\n",
    "            \n",
    "            sorted_res = sorted(fedavg_hyperparams_grid_search_res, key=lambda e: e[0], reverse=True)\n",
    "            \n",
    "            file_name = f\"results/{dataset_name}_{skew_type}_skew_{skew}_{nr_clients}clients.txt\"\n",
    "            print(file_name)\n",
    "            textfile = open(file_name, \"w\")\n",
    "            for line in sorted_res:\n",
    "                textfile.write(str(line) + \"\\n\")\n",
    "            textfile.close()"
   ]
  },
  {
   "cell_type": "code",
   "execution_count": null,
   "id": "aggressive-wholesale",
   "metadata": {
    "scrolled": true
   },
   "outputs": [],
   "source": [
    "# TOTAL CONFIGS: 9 * 4 * 75 = 675\n",
    "\n",
    "DATASETS = [\"mnist\", \"emnist\", \"cifar10\", \"svhn_cropped\"]\n",
    "SKEW_TYPES = [\"label\", \"feature\", \"qty\"]\n",
    "SKEWS = {\n",
    "    \"feature\": [0.02, 0.1],\n",
    "    \"label\": [0.1, 1.0, 5.0],\n",
    "    \"qty\": [0.1, 0.4, 1.0, 2.0]\n",
    "}\n",
    "\n",
    "TEST_PARAMS = dict(\n",
    "    act_fn=[jax.nn.relu],\n",
    "    client_lr=[0.03],\n",
    "    server_lr=[0.03],\n",
    "    client_momentum=[0.9],\n",
    "    server_momentum=[0.9],\n",
    "    batch_size=[16],\n",
    "    epochs_per_round=[2],\n",
    "    rounds=[3],\n",
    "    runs=[1],\n",
    "    clients_set=[3],\n",
    "    skews_set=[0.1]\n",
    "    \n",
    ")\n",
    "\n",
    "for skew_type in SKEW_TYPES:\n",
    "    for dataset_name in DATASETS:\n",
    "        print(f\"DATASET: {dataset_name}, SKEW_TYPE: {skew_type}\")\n",
    "        ds, (x_test, y_test), ds_info = load_tf_dataset(\n",
    "            dataset_name=dataset_name, skew_type=skew_type, decentralized=False,\n",
    "            display=False\n",
    "        )\n",
    "\n",
    "        test_split = convert_to_federated_data(x_test, y_test, ds_info, is_train=False)\n",
    "    \n",
    "        hp_configs = dict(\n",
    "            act_fn=[jax.nn.relu],\n",
    "            client_lr=[0.01],\n",
    "            server_lr=[0.001, 0.005, 0.01, 0.05],\n",
    "            client_momentum=[0.5],\n",
    "            server_momentum=[0.5, 0.7, 0.9],\n",
    "            batch_size=[16, 32],\n",
    "            epochs_per_round=[2],\n",
    "            rounds=[30],\n",
    "            runs=[1],\n",
    "            clients_set=[10, 20],\n",
    "            skews_set=SKEWS[skew_type]\n",
    "        )\n",
    "\n",
    "        run(hp_configs, ds, test_split, ds_info, display=False)"
   ]
  },
  {
   "cell_type": "code",
   "execution_count": null,
   "id": "innocent-slope",
   "metadata": {},
   "outputs": [],
   "source": [
    "def run_test(params, ds, test_split, ds_info, display):\n",
    "    for i in range(len(params['client_lr'])):\n",
    "        ds_info['num_clients'] = params['clients_set'][i]\n",
    "\n",
    "        skew = params['skews_set'][i]\n",
    "\n",
    "        act = [params['act_fn'][0]]\n",
    "        clr = [params['client_lr'][i]]\n",
    "        slr = [params['server_lr'][0]]\n",
    "        cmom = [params['client_momentum'][i]]\n",
    "        smom = [params['server_momentum'][0]]\n",
    "        bs = [params['batch_size'][i]]\n",
    "        epr = [params['epochs_per_round'][0]]\n",
    "        r = [params['rounds'][0]]\n",
    "        runs = params['runs']\n",
    "\n",
    "        test_params = dict(clients=ds_info['num_clients'], skew=skew, act_fn=act, client_lr=clr, server_lr=slr,\n",
    "                           client_momentum=cmom, server_momentum=smom, batch_size=bs,\n",
    "                           epochs_per_round=epr, rounds=r, runs=runs)\n",
    "\n",
    "        fedavg_hyperparams_grid_search_res = fed_avg_gridsearch(test_params, ds, test_split, ds_info, display=display)\n",
    "\n",
    "        return fedavg_hyperparams_grid_search_res"
   ]
  },
  {
   "cell_type": "code",
   "execution_count": null,
   "id": "faced-butterfly",
   "metadata": {
    "scrolled": false
   },
   "outputs": [],
   "source": [
    "datasets = [\"mnist\", \"emnist\", \"cifar10\", \"svhn_cropped\"]\n",
    "SKEWS = {\n",
    "    \"feature\": [0.02, 0.1],\n",
    "    \"label\": [0.1, 1.0, 5.0],\n",
    "    \"qty\": [0.1, 0.4, 1.0, 2.0]\n",
    "}\n",
    "\n",
    "for dataset_name in datasets:\n",
    "    print(dataset_name)\n",
    "    experiment_name = f\"{dataset_name}_non-iid\"\n",
    "    skew_type = \"label\"\n",
    "\n",
    "    ds, (x_test, y_test), ds_info = load_tf_dataset(dataset_name=dataset_name, skew_type=skew_type, decentralized=False,\n",
    "                                                    display=True)\n",
    "    test_split = fedjax.create_tf_dataset_for_clients(to_ClientData([x_test], [y_test], ds_info, train=False),\n",
    "                                                      ['0']).batch(50)\n",
    "\n",
    "    params = dict(\n",
    "        act_fn=[jax.nn.relu],\n",
    "        client_lr=[0.01],\n",
    "        server_lr=[0.01, 0.03, 0.05],\n",
    "        client_momentum=[0.01],\n",
    "        server_momentum=[0.0, 0.01, 0.3, 0.9],\n",
    "        batch_size=[8, 16, 32],\n",
    "        epochs_per_round=[2],\n",
    "        rounds=[30],\n",
    "        runs=1,\n",
    "        clients_set=[10, 20],\n",
    "        skews_set=SKEWS[skew_type]\n",
    "    )\n",
    "\n",
    "    run(params, ds, test_split, ds_info, False)"
   ]
  },
  {
   "cell_type": "code",
   "execution_count": null,
   "id": "thirty-lawsuit",
   "metadata": {},
   "outputs": [],
   "source": []
  }
 ],
 "metadata": {
  "kernelspec": {
   "display_name": "Python 3",
   "language": "python",
   "name": "python3"
  },
  "language_info": {
   "codemirror_mode": {
    "name": "ipython",
    "version": 3
   },
   "file_extension": ".py",
   "mimetype": "text/x-python",
   "name": "python",
   "nbconvert_exporter": "python",
   "pygments_lexer": "ipython3",
   "version": "3.6.9"
  }
 },
 "nbformat": 4,
 "nbformat_minor": 5
}
