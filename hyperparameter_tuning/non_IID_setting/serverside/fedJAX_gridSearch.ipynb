{
 "cells": [
  {
   "cell_type": "code",
   "execution_count": 1,
   "id": "monthly-istanbul",
   "metadata": {
    "scrolled": false
   },
   "outputs": [],
   "source": [
    "import os\n",
    "from copy import deepcopy\n",
    "import jax\n",
    "\n",
    "from federated_library.distributions import convert_to_federated_data\n",
    "from federated_library.dataset_loader import load_tf_dataset\n",
    "from federated_library.train_fed_avg import fed_avg_gridsearch"
   ]
  },
  {
   "cell_type": "code",
   "execution_count": null,
   "id": "c9b852bc",
   "metadata": {},
   "outputs": [],
   "source": [
    "print(jax.local_devices())"
   ]
  },
  {
   "cell_type": "code",
   "execution_count": null,
   "id": "important-toddler",
   "metadata": {},
   "outputs": [],
   "source": [
    "def run(params, ds, test_split, ds_info, display):\n",
    "    clients_set = params['clients_set']\n",
    "    skews_set = params['skews_set']\n",
    "\n",
    "    params = deepcopy(params)\n",
    "    del params['clients_set']\n",
    "    del params['skews_set']\n",
    "\n",
    "    for nr_clients in clients_set:\n",
    "        ds_info['num_clients'] = nr_clients\n",
    "        for skew in skews_set:\n",
    "            print(f\"{nr_clients} clients, skew={skew}\")\n",
    "            params['skew'] = [skew]\n",
    "            fedavg_hyperparams_grid_search_res = fed_avg_gridsearch(\n",
    "                params, ds, test_split, ds_info, display=display\n",
    "            )\n",
    "\n",
    "            sorted_res = sorted(fedavg_hyperparams_grid_search_res,\n",
    "                                key=lambda e: e[0], reverse=True)\n",
    "\n",
    "            if not os.path.exists(\"results/\"):\n",
    "                os.makedirs(\"results/\")\n",
    "\n",
    "            file_name = f\"results/{dataset_name}_{skew_type}_skew_{skew}_{nr_clients}clients.txt\"\n",
    "            print(file_name)\n",
    "            textfile = open(file_name, \"w\")\n",
    "            for line in sorted_res:\n",
    "                textfile.write(str(line) + \"\\n\")\n",
    "            textfile.close()"
   ]
  },
  {
   "cell_type": "code",
   "execution_count": null,
   "id": "aggressive-wholesale",
   "metadata": {
    "scrolled": true
   },
   "outputs": [],
   "source": [
    "DATASETS = [\"mnist\", \"emnist\", \"cifar10\", \"svhn_cropped\"]\n",
    "SKEW_TYPES = [\"label\", \"feature\", \"qty\"]\n",
    "SKEWS = {\n",
    "    \"feature\": [0.02, 0.1],\n",
    "    \"label\": [0.1, 1.0, 5.0],\n",
    "    \"qty\": [0.1, 0.4, 1.0, 2.0]\n",
    "}\n",
    "\n",
    "TEST_PARAMS = dict(\n",
    "    act_fn=[jax.nn.relu],\n",
    "    client_lr=[0.01],\n",
    "    server_lr=[0.03],\n",
    "    client_momentum=[0.9],\n",
    "    server_momentum=[0.9],\n",
    "    batch_size=[16],\n",
    "    epochs_per_round=[2],\n",
    "    rounds=[30],\n",
    "    runs=[1],\n",
    "    clients_set=[10, 20],\n",
    "    skews_set=[0.1]\n",
    ")\n",
    "\n",
    "for dataset_name in DATASETS:\n",
    "    for skew_type in SKEW_TYPES:\n",
    "        print(f\"DATASET: {dataset_name}, SKEW_TYPE: {skew_type}\")\n",
    "        ds, (x_test, y_test), ds_info = load_tf_dataset(\n",
    "            dataset_name=dataset_name, skew_type=skew_type,\n",
    "            decentralized=False, display=False\n",
    "        )\n",
    "\n",
    "        test_split = convert_to_federated_data(x_test, y_test, ds_info,\n",
    "                                               is_train=False)\n",
    "\n",
    "        hp_configs = dict(\n",
    "            act_fn=[jax.nn.relu],\n",
    "            client_lr=[0.01],\n",
    "            server_lr=[0.01, 0.03, 0.05, 0.1, 0.3, 0.5],\n",
    "            client_momentum=[0.01],\n",
    "            server_momentum=[0.0, 0.3, 0.6, 0.9],\n",
    "            batch_size=[8, 16, 32],\n",
    "            epochs_per_round=[2],\n",
    "            rounds=[30],\n",
    "            runs=[1],\n",
    "            clients_set=[10, 20],\n",
    "            skews_set=SKEWS[skew_type]\n",
    "        )\n",
    "\n",
    "        run(hp_configs, ds, test_split, ds_info, display=False)"
   ]
  }
 ],
 "metadata": {
  "kernelspec": {
   "display_name": "Python 3",
   "language": "python",
   "name": "python3"
  },
  "language_info": {
   "codemirror_mode": {
    "name": "ipython",
    "version": 3
   },
   "file_extension": ".py",
   "mimetype": "text/x-python",
   "name": "python",
   "nbconvert_exporter": "python",
   "pygments_lexer": "ipython3",
   "version": "3.9.7"
  }
 },
 "nbformat": 4,
 "nbformat_minor": 5
}
