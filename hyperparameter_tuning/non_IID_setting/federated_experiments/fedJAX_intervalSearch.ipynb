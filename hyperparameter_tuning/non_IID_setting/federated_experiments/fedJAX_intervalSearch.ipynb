{
 "cells": [
  {
   "cell_type": "code",
   "execution_count": 1,
   "id": "monthly-istanbul",
   "metadata": {},
   "outputs": [],
   "source": [
    "import math\n",
    "import sys\n",
    "sys.path.append(\"..\")\n",
    "\n",
    "from federated_library.distributions import convert_to_federated_data\n",
    "from federated_library.dataset_loader import load_tf_dataset\n",
    "from federated_library.train_fed_avg import fed_avg_intervalsearch"
   ]
  },
  {
   "cell_type": "code",
   "execution_count": 2,
   "id": "correct-dynamics",
   "metadata": {},
   "outputs": [],
   "source": [
    "degree = 3\n",
    "interval = 0\n",
    "\n",
    "\n",
    "def reluApprox(x):\n",
    "    if degree == 3:\n",
    "        if interval == 3:\n",
    "            return 0.7146 + 1.5000 * (x/interval) + 0.8793 * (x/interval)**2\n",
    "        if interval == 5:\n",
    "            return 0.7865 + 2.5000 * (x/interval) + 1.88 * (x/interval)**2\n",
    "        if interval == 7:\n",
    "            return 0.9003 + 3.5000 * (x/interval) + 2.9013 * (x/interval)**2\n",
    "        if interval == 10:\n",
    "            return 1.1155 + 5 * (x/interval) + 4.4003 * (x/interval)**2\n",
    "        if interval == 12:\n",
    "            return 1.2751 + 6 * (x/interval) + 5.3803 * (x/interval)**2\n",
    "    if degree == 5:\n",
    "        if interval == 7:\n",
    "            return 0.7521 + 3.5000 * (x/interval) + 4.3825 * (x/interval)**2 - 1.7281 * (x/interval)**4\n",
    "        if interval == 20:\n",
    "            return 1.3127 + 10 * (x/interval) + 15.7631 * (x/interval)**2 - 7.6296 * (x/interval)**4"
   ]
  },
  {
   "cell_type": "code",
   "execution_count": 4,
   "id": "aggressive-wholesale",
   "metadata": {
    "scrolled": true
   },
   "outputs": [],
   "source": [
    "def run(hyperparams, ds, test_split, ds_info, display):\n",
    "\n",
    "    for i in range(len(hyperparams['client_lr'])):\n",
    "        ds_info['num_clients'] = hyperparams['clients_set'][i]\n",
    "        skew = hyperparams['skews_set'][i]\n",
    "\n",
    "        act = hyperparams['act_fn'][0]\n",
    "        intervals = hyperparams['intervals']\n",
    "        clr = hyperparams['client_lr'][i]\n",
    "        slr = hyperparams['server_lr'][0]\n",
    "        cmom = hyperparams['client_momentum'][i]\n",
    "        smom = hyperparams['server_momentum'][0]\n",
    "        bs = hyperparams['batch_size'][i]\n",
    "        epr = hyperparams['epochs_per_round'][0]\n",
    "        r = hyperparams['rounds'][0]\n",
    "        runs = hyperparams['runs']\n",
    "\n",
    "        params = dict(clients=ds_info['num_clients'], skew=skew, act_fn=act, client_lr=clr, server_lr=slr,\n",
    "                      client_momentum=cmom, server_momentum=smom, batch_size=bs,\n",
    "                      epochs_per_round=epr, rounds=r, runs=runs, intervals=intervals)\n",
    "\n",
    "        fedavg_hyperparams_interval_search_res = fed_avg_intervalsearch(\n",
    "            params, ds, test_split, ds_info, display)\n",
    "        sorted_res = fedavg_hyperparams_interval_search_res\n",
    "        sorted_res.sort(key=lambda e: e[0], reverse=True)\n",
    "\n",
    "        textfile = open(\n",
    "            f\"intervals_{dataset_name}_{skew_type}_skew_{skew}_{ds_info['num_clients']}clients.txt\", \"w\")\n",
    "        for line in sorted_res:\n",
    "            textfile.write(str(line)+\"\\n\")\n",
    "        textfile.close()"
   ]
  },
  {
   "cell_type": "code",
   "execution_count": null,
   "id": "comic-outline",
   "metadata": {},
   "outputs": [
    {
     "data": {
      "image/png": "[encoded data removed]",
      "text/plain": [
       "<Figure size 864x504 with 1 Axes>"
      ]
     },
     "metadata": {
      "needs_background": "light"
     },
     "output_type": "display_data"
    },
    {
     "data": {
      "image/png": "[encoded data removed]",
      "text/plain": [
       "<Figure size 864x504 with 1 Axes>"
      ]
     },
     "metadata": {
      "needs_background": "light"
     },
     "output_type": "display_data"
    },
    {
     "name": "stderr",
     "output_type": "stream",
     "text": [
      "/home/simon/FJTEST/poseidon/lib/python3.6/site-packages/tensorflow_federated/python/simulation/datasets/serializable_client_data.py:112: UserWarning: Creating resources inside a function passed to Dataset.flat_map() is not supported. Create each resource outside the function, and capture it inside the function to use it.\n",
      "  example_dataset = nested_dataset.flat_map(self.serializable_dataset_fn)\n"
     ]
    },
    {
     "name": "stdout",
     "output_type": "stream",
     "text": [
      "Training with params : {'clients': 10, 'skew': 0.1, 'act_fn': <function reluApprox at 0x7ff718914ea0>, 'client_lr': 0.02359272784332701, 'server_lr': 0.03162277660168379, 'client_momentum': 0.37444193717091573, 'server_momentum': 0.9, 'batch_size': 44, 'epochs_per_round': 2, 'rounds': 30, 'runs': 1, 'intervals': [3, 5, 7, 10, 12], 'interval': 3}\n",
      "Label skew\n"
     ]
    },
    {
     "name": "stderr",
     "output_type": "stream",
     "text": [
      "WARNING:absl:No GPU/TPU found, falling back to CPU. (Set TF_CPP_MIN_LOG_LEVEL=0 and rerun for more info.)\n",
      "/home/simon/FJTEST/poseidon/lib/python3.6/site-packages/jax/_src/numpy/lax_numpy.py:3085: UserWarning: Explicitly requested dtype float64 requested in zeros is not available, and will be truncated to dtype float32. To enable more dtypes, set the jax_enable_x64 configuration option or the JAX_ENABLE_X64 shell environment variable. See https://github.com/google/jax#current-gotchas for more.\n",
      "  lax._check_user_dtype_supported(dtype, \"zeros\")\n"
     ]
    }
   ],
   "source": [
    "dataset_name = \"mnist\"\n",
    "experiment_name = f\"{dataset_name}_non-iid\"\n",
    "skew_type = \"label\"\n",
    "\n",
    "ds, (x_test, y_test), ds_info = load_tf_dataset(\n",
    "    dataset_name=dataset_name, skew_type=skew_type, decentralized=False,\n",
    "    display=False\n",
    ")\n",
    "\n",
    "test_split = convert_to_federated_data(x_test, y_test, ds_info, is_train=False)\n",
    "\n",
    "\n",
    "hyperparams = dict(\n",
    "    act_fn=[reluApprox],\n",
    "    intervals=[3, 5, 7, 10, 12],\n",
    "    client_lr=[0.02359272784332701, 0.0205964140154576, 0.021041110212532167,\n",
    "               0.016441616450070553, 0.023167248345505664, 0.0143186315303439,\n",
    "               0.01866746139165057, 0.01834264896835387, 0.019569011208507413,\n",
    "               0.018918597034391763],\n",
    "    server_lr=[math.sqrt(0.001)],\n",
    "    client_momentum=[0.37444193717091573, 0.24679926749118195, 0.5127673758314129,\n",
    "                     0.3841951159290946, 0.7217274687604236, 0.2674569120042026,\n",
    "                     0.4121600355164831, 0.4889208913350354, 0.49567215513624246,\n",
    "                     0.5369164996342611],\n",
    "    server_momentum=[0.9],\n",
    "    batch_size=[44, 13, 32, 29, 23, 13, 26, 18, 18, 21],\n",
    "    epochs_per_round=[2],\n",
    "    rounds=[30],\n",
    "    runs=1,\n",
    "    clients_set=[10, 10, 10, 10, 10, 20, 20, 20, 20, 20],\n",
    "    skews_set=[0.1, 0.4, 1.0, 2.0, 5.0, 0.1, 0.4, 1.0, 2.0, 5.0])\n",
    "run(hyperparams, ds, test_split, ds_info, False)"
   ]
  }
 ],
 "metadata": {
  "kernelspec": {
   "display_name": "Python 3",
   "language": "python",
   "name": "python3"
  },
  "language_info": {
   "codemirror_mode": {
    "name": "ipython",
    "version": 3
   },
   "file_extension": ".py",
   "mimetype": "text/x-python",
   "name": "python",
   "nbconvert_exporter": "python",
   "pygments_lexer": "ipython3",
   "version": "3.6.9"
  }
 },
 "nbformat": 4,
 "nbformat_minor": 5
}
