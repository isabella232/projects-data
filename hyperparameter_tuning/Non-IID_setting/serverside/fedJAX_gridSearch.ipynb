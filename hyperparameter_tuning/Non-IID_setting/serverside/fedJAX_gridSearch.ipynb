{
 "cells": [
  {
   "cell_type": "code",
   "execution_count": 1,
   "id": "monthly-istanbul",
   "metadata": {
    "scrolled": false
   },
   "outputs": [],
   "source": [
    "from copy import deepcopy\n",
    "import jax\n",
    "import fedjax\n",
    "from distributions import *\n",
    "from dataset_loader import *\n",
    "from fedAvg_training import train_fedAvg"
   ]
  },
  {
   "cell_type": "code",
   "execution_count": null,
   "id": "important-toddler",
   "metadata": {},
   "outputs": [],
   "source": [
    "def fed_avg_gridsearch(params, ds, test_split, ds_info, display):\n",
    "    act_fn = params['act_fn']\n",
    "    client_lr = params['client_lr']\n",
    "    server_lr = params['server_lr']\n",
    "    client_momentum = params['client_momentum']\n",
    "    server_momentum = params['server_momentum']\n",
    "    batch_size = params['batch_size']\n",
    "    epochs_per_round = params['epochs_per_round']\n",
    "    rounds = params['rounds']\n",
    "    runs = params['runs']\n",
    "\n",
    "    total = len(client_lr) * len(server_lr) * len(client_momentum) * len(server_momentum) * len(batch_size) * len(\n",
    "        epochs_per_round) * len(rounds)\n",
    "\n",
    "    print(f'Gridsearch on {total} values, total with folds :{total * runs}')\n",
    "\n",
    "    count = 0\n",
    "\n",
    "    res = []\n",
    "    for act in act_fn:\n",
    "        for clr in client_lr:\n",
    "            for slr in server_lr:\n",
    "                for cmom in client_momentum:\n",
    "                    for smom in server_momentum:\n",
    "                        for bs in batch_size:\n",
    "                            for epr in epochs_per_round:\n",
    "                                for r in rounds:\n",
    "                                    params = dict(act_fn=act, client_lr=clr, server_lr=slr,\n",
    "                                                  client_momentum=cmom, server_momentum=smom, batch_size=bs,\n",
    "                                                  epochs_per_round=epr, rounds=r, skew=params['skew'])\n",
    "                                    print(f'Training with params : {params}')\n",
    "\n",
    "                                    for r in range(runs):\n",
    "                                        run_res = train_fedAvg(params, ds, test_split, ds_info, display=display)[\n",
    "                                            'accuracy']\n",
    "                                        print(count, run_res)\n",
    "\n",
    "                                        res.append((run_res, deepcopy(params)))\n",
    "                                        count += 1\n",
    "\n",
    "    return res"
   ]
  },
  {
   "cell_type": "code",
   "execution_count": null,
   "id": "aggressive-wholesale",
   "metadata": {
    "scrolled": true
   },
   "outputs": [],
   "source": [
    "def run(params, ds, test_split, ds_info, display):\n",
    "    for c in params['clients_set']:\n",
    "\n",
    "        ds_info['num_clients'] = c\n",
    "\n",
    "        for skew in params['skews_set']:\n",
    "\n",
    "            params['skew'] = skew\n",
    "\n",
    "            fedavg_hyperparams_grid_search_res = fed_avg_gridsearch(deepcopy(params), ds, test_split, ds_info,\n",
    "                                                                    display=display)\n",
    "            sorted_res = fedavg_hyperparams_grid_search_res\n",
    "            sorted_res.sort(key=lambda e: e[0], reverse=True)\n",
    "\n",
    "            textfile = open(f\"{dataset_name}_{skew_type}_skew_{skew}_{c}clients.txt\", \"w\")\n",
    "            for line in sorted_res:\n",
    "                textfile.write(str(line) + \"\\n\")\n",
    "            textfile.close()"
   ]
  },
  {
   "cell_type": "code",
   "execution_count": null,
   "id": "innocent-slope",
   "metadata": {},
   "outputs": [],
   "source": [
    "def run_test(params, ds, test_split, ds_info, display):\n",
    "    for i in range(len(params['client_lr'])):\n",
    "        ds_info['num_clients'] = params['clients_set'][i]\n",
    "\n",
    "        skew = params['skews_set'][i]\n",
    "\n",
    "        act = [params['act_fn'][0]]\n",
    "        clr = [params['client_lr'][i]]\n",
    "        slr = [params['server_lr'][0]]\n",
    "        cmom = [params['client_momentum'][i]]\n",
    "        smom = [params['server_momentum'][0]]\n",
    "        bs = [params['batch_size'][i]]\n",
    "        epr = [params['epochs_per_round'][0]]\n",
    "        r = [params['rounds'][0]]\n",
    "        runs = params['runs']\n",
    "\n",
    "        test_params = dict(clients=ds_info['num_clients'], skew=skew, act_fn=act, client_lr=clr, server_lr=slr,\n",
    "                           client_momentum=cmom, server_momentum=smom, batch_size=bs,\n",
    "                           epochs_per_round=epr, rounds=r, runs=runs)\n",
    "\n",
    "        fedavg_hyperparams_grid_search_res = fed_avg_gridsearch(test_params, ds, test_split, ds_info, display=display)\n",
    "\n",
    "        return fedavg_hyperparams_grid_search_res"
   ]
  },
  {
   "cell_type": "code",
   "execution_count": null,
   "id": "faced-butterfly",
   "metadata": {
    "scrolled": false
   },
   "outputs": [],
   "source": [
    "datasets = [\"mnist\", \"emnist\", \"cifar10\", \"svhn_cropped\"]\n",
    "SKEWS = {\n",
    "    \"feature\": [0.02, 0.1],\n",
    "    \"label\": [0.1, 1.0, 5.0],\n",
    "    \"qty\": [0.1, 0.4, 1.0, 2.0]\n",
    "}\n",
    "\n",
    "for dataset_name in datasets:\n",
    "    print(dataset_name)\n",
    "    experiment_name = f\"{dataset_name}_non-iid\"\n",
    "    skew_type = \"label\"\n",
    "\n",
    "    ds, (x_test, y_test), ds_info = load_tf_dataset(dataset_name=dataset_name, skew_type=skew_type, decentralized=False,\n",
    "                                                    display=True)\n",
    "    test_split = fedjax.create_tf_dataset_for_clients(to_ClientData([x_test], [y_test], ds_info, train=False),\n",
    "                                                      ['0']).batch(50)\n",
    "\n",
    "    params = dict(\n",
    "        act_fn=[jax.nn.relu],\n",
    "        client_lr=[0.01],\n",
    "        server_lr=[0.01, 0.03, 0.05],\n",
    "        client_momentum=[0.01],\n",
    "        server_momentum=[0.0, 0.01, 0.3, 0.9],\n",
    "        batch_size=[8, 16, 32],\n",
    "        epochs_per_round=[2],\n",
    "        rounds=[30],\n",
    "        runs=1,\n",
    "        clients_set=[10, 20],\n",
    "        skews_set=SKEWS[skew_type]\n",
    "    )\n",
    "\n",
    "    run(params, ds, test_split, ds_info, False)"
   ]
  },
  {
   "cell_type": "code",
   "execution_count": null,
   "id": "thirty-lawsuit",
   "metadata": {},
   "outputs": [],
   "source": []
  }
 ],
 "metadata": {
  "kernelspec": {
   "display_name": "Python 3",
   "language": "python",
   "name": "python3"
  },
  "language_info": {
   "codemirror_mode": {
    "name": "ipython",
    "version": 3
   },
   "file_extension": ".py",
   "mimetype": "text/x-python",
   "name": "python",
   "nbconvert_exporter": "python",
   "pygments_lexer": "ipython3",
   "version": "3.6.9"
  }
 },
 "nbformat": 4,
 "nbformat_minor": 5
}