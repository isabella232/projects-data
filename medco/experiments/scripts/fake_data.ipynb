{
 "cells": [
  {
   "cell_type": "code",
   "execution_count": 1,
   "metadata": {},
   "outputs": [],
   "source": [
    "import pandas as pd\n",
    "from random import choices\n",
    "\n",
    "clinical_data = pd.read_csv(\"../genomic/tcga_cbio/clinical_data.csv\", sep='\\t', dtype=object)\n",
    "mutation_data = pd.read_csv(\"../genomic/tcga_cbio/mutation_data.csv\", sep='\\t', dtype=object)"
   ]
  },
  {
   "cell_type": "code",
   "execution_count": 20,
   "metadata": {},
   "outputs": [],
   "source": [
    "dict_clinical = {}\n",
    "for (columnName, columnData) in clinical_data.iteritems():\n",
    "    dict_clinical[columnName] = columnData.unique()\n",
    "    \n",
    "dict_mutation = {}\n",
    "for (columnName, columnData) in mutation_data.iteritems():\n",
    "    dict_mutation[columnName] = columnData.unique()\n",
    "    \n",
    "#change all clinical fields (except structural ones)\n",
    "for columnName in clinical_data:\n",
    "    if columnName != \"CANCER_STUDY_ID\" and columnName != \"CANCER_STUDY_IDENTIFIER\" and columnName != \"PATIENT_ID\" and columnName != \"P_STABLE_ID\" and columnName != \"SAMPLE_ID\" and columnName != \"S_STABLE_ID\":\n",
    "        #uniformly sample data to replace\n",
    "        columnData = choices(dict_clinical[columnName],k=len(clinical_data[columnName]))\n",
    "        clinical_data[columnName] = columnData\n",
    "        \n",
    "clinical_data.to_csv('../genomic/tcga_cbio/clinical_data_fake.csv', index=False)\n",
    "        \n",
    "#change all mutation fields (except structural ones)\n",
    "for columnName in mutation_data:\n",
    "    if columnName != \"CANCER_STUDY_ID\" and columnName != \"CANCER_STUDY_IDENTIFIER\" and columnName != \"PATIENT_ID\" and columnName != \"SAMPLE_ID\":\n",
    "        #uniformly sample data to replace\n",
    "        columnData = choices(dict_mutation[columnName],k=len(mutation_data[columnName]))\n",
    "        mutation_data[columnName] = columnData\n",
    "        \n",
    "mutation_data.to_csv('../genomic/tcga_cbio/mutation_data_fake.csv', index=False)    "
   ]
  },
  {
   "cell_type": "code",
   "execution_count": null,
   "metadata": {},
   "outputs": [],
   "source": []
  }
 ],
 "metadata": {
  "kernelspec": {
   "display_name": "Python 3",
   "language": "python",
   "name": "python3"
  },
  "language_info": {
   "codemirror_mode": {
    "name": "ipython",
    "version": 3
   },
   "file_extension": ".py",
   "mimetype": "text/x-python",
   "name": "python",
   "nbconvert_exporter": "python",
   "pygments_lexer": "ipython3",
   "version": "3.6.4"
  }
 },
 "nbformat": 4,
 "nbformat_minor": 2
}
