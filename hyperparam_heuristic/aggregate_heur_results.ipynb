{
 "cells": [
  {
   "cell_type": "code",
   "execution_count": null,
   "metadata": {},
   "outputs": [],
   "source": [
    "from pprint import pprint\n",
    "import json\n",
    "import ast\n",
    "from collections import defaultdict\n",
    "\n",
    "import numpy as np\n",
    "\n",
    "with open('heur_results/evaluate_heur_mnist.txt') as f:\n",
    "    lines = f.readlines()"
   ]
  },
  {
   "cell_type": "code",
   "execution_count": null,
   "metadata": {},
   "outputs": [],
   "source": [
    "heur_results = defaultdict(list)\n",
    "accs = defaultdict(list)\n",
    "\n",
    "for line in lines:\n",
    "    if line[0].isdigit and line[1] == \" \":\n",
    "        v = int(line[0])\n",
    "        heur_params = ast.literal_eval(line[2:])\n",
    "\n",
    "        heur_results[v].append(heur_params)\n",
    "\n",
    "        accs[v].append([heur_params[\"fedavg_acc\"], heur_params[\"heur_acc\"]])"
   ]
  },
  {
   "cell_type": "code",
   "execution_count": null,
   "metadata": {},
   "outputs": [],
   "source": [
    "for v, vaccs in accs.items():\n",
    "    print(f\"Heuristic v{v}\")\n",
    "    vaccs_arr = np.array(vaccs)\n",
    "    diff = vaccs_arr[:, 1] - vaccs_arr[:, 0]\n",
    "    mean_acc = np.mean(vaccs_arr, axis=0)\n",
    "    print(f\"\\tMean FedAvg: {mean_acc[0]}\")\n",
    "    print(f\"\\tMean Heuristic: {mean_acc[1]}\")\n",
    "    print(f\"\\tMean difference: {np.mean(diff)} ± {np.std(diff)}\")"
   ]
  },
  {
   "cell_type": "code",
   "execution_count": null,
   "metadata": {},
   "outputs": [],
   "source": [
    "with open(\"heur_results/heur_svhn.json\", 'w') as outfile:\n",
    "    json.dump(heur_results, outfile)\n",
    "\n",
    "for v, vaccs in accs.items():\n",
    "    print(f\"Heuristic v{v}\")\n",
    "    vaccs_arr = np.array(vaccs)\n",
    "    diff = vaccs_arr[:, 1] - vaccs_arr[:, 0]\n",
    "    mean_acc = np.mean(vaccs_arr, axis=0)\n",
    "    print(f\"\\tMean FedAvg: {mean_acc[0]}\")\n",
    "    print(f\"\\tMean Heuristic: {mean_acc[1]}\")\n",
    "    print(f\"\\tMean difference: {np.mean(diff)} ± {np.std(diff)}\")"
   ]
  },
  {
   "cell_type": "code",
   "execution_count": null,
   "metadata": {},
   "outputs": [],
   "source": [
    "with open(\"heur_results/heur_cifar10.json\", 'w') as outfile:\n",
    "    json.dump(heur_results, outfile)\n",
    "\n",
    "for v, vaccs in accs.items():\n",
    "    print(f\"Heuristic v{v}\")\n",
    "    vaccs_arr = np.array(vaccs)\n",
    "    diff = vaccs_arr[:, 1] - vaccs_arr[:, 0]\n",
    "    mean_acc = np.mean(vaccs_arr, axis=0)\n",
    "    print(f\"\\tMean FedAvg: {mean_acc[0]}\")\n",
    "    print(f\"\\tMean Heuristic: {mean_acc[1]}\")\n",
    "    print(f\"\\tMean difference: {np.mean(diff)} ± {np.std(diff)}\")"
   ]
  },
  {
   "cell_type": "code",
   "execution_count": null,
   "metadata": {},
   "outputs": [],
   "source": [
    "import json\n",
    "\n",
    "with open(\"heur_results/heur_results_emnist_2022-01-22 11:15:54.170890.json\", 'r') as f:\n",
    "  emnist01 = json.load(f)\n",
    "\n",
    "with open(\"heur_results/heur_results_emnist_2022-01-26 07:55:26.604491.json\", 'r') as f:\n",
    "  emnist2 = json.load(f)\n",
    "\n",
    "with open(\"heur_results/heur_results_emnist_2022-01-26 08:09:56.874550.json\", 'r') as f:\n",
    "  emnist3 = json.load(f)"
   ]
  },
  {
   "cell_type": "code",
   "execution_count": null,
   "metadata": {},
   "outputs": [],
   "source": [
    "with open(\"heur_results/heur_emnist.json\", \"w\") as fout:\n",
    "    json.dump(emnist01 | emnist2 | emnist3, fout)"
   ]
  }
 ],
 "metadata": {
  "interpreter": {
   "hash": "9bd034044bc82ac8c5d86c6c1f60b660a951d88d9f92616ab791d10eceb544fc"
  },
  "kernelspec": {
   "display_name": "Python 3.9.7 64-bit ('sp_venv': venv)",
   "language": "python",
   "name": "python3"
  },
  "language_info": {
   "codemirror_mode": {
    "name": "ipython",
    "version": 3
   },
   "file_extension": ".py",
   "mimetype": "text/x-python",
   "name": "python",
   "nbconvert_exporter": "python",
   "pygments_lexer": "ipython3",
   "version": "3.9.7"
  },
  "orig_nbformat": 4
 },
 "nbformat": 4,
 "nbformat_minor": 2
}
