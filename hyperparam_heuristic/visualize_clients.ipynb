{
 "cells": [
  {
   "cell_type": "code",
   "execution_count": 5,
   "metadata": {
    "collapsed": false,
    "jupyter": {
     "outputs_hidden": false
    },
    "pycharm": {
     "name": "#%%\n"
    }
   },
   "outputs": [],
   "source": [
    "import seaborn as sns\n",
    "import matplotlib.pyplot as plt\n",
    "from mpl_toolkits.mplot3d import Axes3D\n",
    "import ipywidgets as widgets\n",
    "from ipywidgets import interact, interact_manual\n",
    "from pprint import pprint\n",
    "\n",
    "sns.set(style=\"darkgrid\")\n",
    "from read_data import get_client_res, get_fedavg_res"
   ]
  },
  {
   "cell_type": "code",
   "execution_count": 2,
   "metadata": {
    "collapsed": false,
    "jupyter": {
     "outputs_hidden": false
    },
    "pycharm": {
     "name": "#%%\n"
    }
   },
   "outputs": [],
   "source": [
    "TYPE_OF_SKEW = [\"feature\", \"label\", \"qty\"]\n",
    "DATASETS = [\"EMNIST\", \"MNIST\", \"SVHN_CROPPED\", \"CIFAR10\"]\n",
    "FEATURE_SKEWS = [\"0.02\", \"0.1\"]\n",
    "LABEL_SKEWS = [\"0.1\", \"1.0\", \"5.0\"]\n",
    "QTY_SKEWS = [\"0.1\", \"0.4\", \"1.0\", \"2.0\"]\n",
    "NR_PARTIES = [10, 20]"
   ]
  },
  {
   "cell_type": "code",
   "execution_count": 8,
   "metadata": {
    "collapsed": false,
    "jupyter": {
     "outputs_hidden": false
    },
    "pycharm": {
     "name": "#%%\n"
    }
   },
   "outputs": [
    {
     "data": {
      "application/vnd.jupyter.widget-view+json": {
       "model_id": "c5e07a14c82c4bacb081b73dfce1a867",
       "version_major": 2,
       "version_minor": 0
      },
      "text/plain": [
       "interactive(children=(Dropdown(description='dataset', options=('EMNIST', 'MNIST', 'SVHN_CROPPED', 'CIFAR10'), …"
      ]
     },
     "metadata": {},
     "output_type": "display_data"
    }
   ],
   "source": [
    "%matplotlib widget\n",
    "\n",
    "@interact\n",
    "def plot_clients(dataset=DATASETS, skew=FEATURE_SKEWS, nr_parties=NR_PARTIES):\n",
    "\n",
    "    hps, _, _, _ = get_client_res(dataset, skew, nr_parties, \"feature\")\n",
    "\n",
    "    fedavg_hps = get_fedavg_res(dataset, skew, nr_parties, \"feature\")\n",
    "    print(\"Clients:\")\n",
    "    pprint(hps)\n",
    "    print(\"FEDAVG:\")\n",
    "    pprint(fedavg_hps)\n",
    "\n",
    "    fig = plt.figure(figsize=(10, 8))\n",
    "    ax = fig.add_subplot(111, projection='3d')\n",
    "\n",
    "    x = hps[\"lr\"]\n",
    "    y = hps[\"momentum\"]\n",
    "    z = hps[\"batch_size\"]\n",
    "\n",
    "    ax.set_xlabel(\"lr\")\n",
    "    ax.set_ylabel(\"momentum\")\n",
    "    ax.set_zlabel(\"bs\")\n",
    "\n",
    "    ax.scatter(x, y, z)\n",
    "    ax.scatter(fedavg_hps[\"server_lr\"],\n",
    "               fedavg_hps[\"server_momentum\"],\n",
    "               fedavg_hps[\"batch_size\"], c=\"r\")\n",
    "    plt.show()"
   ]
  }
 ],
 "metadata": {
  "kernelspec": {
   "display_name": "Python 3 (ipykernel)",
   "language": "python",
   "name": "python3"
  },
  "language_info": {
   "codemirror_mode": {
    "name": "ipython",
    "version": 3
   },
   "file_extension": ".py",
   "mimetype": "text/x-python",
   "name": "python",
   "nbconvert_exporter": "python",
   "pygments_lexer": "ipython3",
   "version": "3.6.11"
  }
 },
 "nbformat": 4,
 "nbformat_minor": 4
}