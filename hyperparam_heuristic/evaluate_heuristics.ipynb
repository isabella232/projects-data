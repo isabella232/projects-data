{
 "cells": [
  {
   "cell_type": "code",
   "execution_count": null,
   "id": "2dbb8704",
   "metadata": {
    "jupyter": {
     "outputs_hidden": false
    },
    "pycharm": {
     "name": "#%%\n"
    }
   },
   "outputs": [],
   "source": [
    "%load_ext autoreload\n",
    "%autoreload 2"
   ]
  },
  {
   "cell_type": "code",
   "execution_count": null,
   "id": "monthly-istanbul",
   "metadata": {},
   "outputs": [],
   "source": [
    "import os\n",
    "import jax\n",
    "\n",
    "from federated_library.distributions import convert_to_federated_data\n",
    "from federated_library.dataset_loader import load_tf_dataset\n",
    "from federated_library.train_fed_avg import fed_avg_gridsearch\n",
    "from read_data import get_client_res, get_fedavg_acc\n",
    "from heuristic_funcs import aggregate_results\n",
    "from constants import SKEW_TYPES, SKEWS\n",
    "\n",
    "DATASETS = [\"mnist\", \"svhn_cropped\", \"cifar10\"]\n",
    "HEUR_VERSIONS = [1, 2, 3, 4]"
   ]
  },
  {
   "cell_type": "code",
   "execution_count": null,
   "id": "important-toddler",
   "metadata": {},
   "outputs": [],
   "source": [
    "# Evaluate heuristic performance\n",
    "\n",
    "# NR_EVALUATIONS = DATASETS x SKEW_TYPES x NR_CLIENTS x SKEW\n",
    "\n",
    "for dataset_name in DATASETS:\n",
    "    for skew_type in SKEW_TYPES:\n",
    "        print(f\"DATASET: {dataset_name}, SKEW_TYPE: {skew_type}\")\n",
    "        ds, (x_test, y_test), ds_info = load_tf_dataset(\n",
    "            dataset_name=dataset_name,\n",
    "            skew_type=skew_type,\n",
    "            decentralized=False,\n",
    "            display=False\n",
    "        )\n",
    "\n",
    "        test_split = convert_to_federated_data(\n",
    "            x_test, y_test, ds_info, is_train=False)\n",
    "\n",
    "        hp_configs = dict(\n",
    "            act_fn=[jax.nn.relu],\n",
    "            client_lr=[0.01],\n",
    "            client_momentum=[0.01],\n",
    "            epochs_per_round=[2],\n",
    "            rounds=[30],\n",
    "            runs=[1]\n",
    "        )\n",
    "\n",
    "        for nr_clients in (10, 20):\n",
    "            ds_info['num_clients'] = nr_clients\n",
    "            for skew in SKEWS[skew_type]:\n",
    "                print(f\"{nr_clients} clients, skew={skew}\")\n",
    "                hp_configs['skew'] = [skew]\n",
    "\n",
    "                hps, accs, best_acc, ratios = get_client_res(\n",
    "                    dataset_name, skew, nr_clients, skew_type\n",
    "                )\n",
    "\n",
    "                agg_hp_configs = {\n",
    "                    v: aggregate_results(\n",
    "                    hps, accs, best_acc, ratios,\n",
    "                    type_of_skew=skew_type, v=v) for v in HEUR_VERSIONS\n",
    "                }\n",
    "\n",
    "                print(agg_hp_configs)\n",
    "\n",
    "                for v in HEUR_VERSIONS:\n",
    "                    for hp, value in agg_hp_configs[v].items():\n",
    "                        hp_configs[hp] = [value]\n",
    "\n",
    "                    print(hp_configs)\n",
    "\n",
    "                    fedavg_hyperparams_grid_search_res = fed_avg_gridsearch(\n",
    "                        hp_configs, ds, test_split, ds_info, display=False\n",
    "                    )\n",
    "\n",
    "                    sorted_heur_res = sorted(fedavg_hyperparams_grid_search_res,\n",
    "                                        key=lambda e: e[0], reverse=True)\n",
    "\n",
    "                    if not os.path.exists(f\"heur_v{v}_results/\"):\n",
    "                        os.makedirs(f\"heur_v{v}_results/\")\n",
    "\n",
    "                    file_name = (f\"heur_v{v}_results/{dataset_name}_{skew_type}_skew_\"\n",
    "                                f\"{skew}_{nr_clients}clients.txt\")\n",
    "\n",
    "                    textfile = open(file_name, \"w\")\n",
    "                    for line in sorted_heur_res:\n",
    "                        textfile.write(str(line) + \"\\n\")\n",
    "                    textfile.close()\n",
    "\n",
    "                    fedavg_acc = get_fedavg_acc(\n",
    "                        dataset_name, skew, nr_clients, skew_type)\n",
    "\n",
    "                    print(dataset_name, skew, nr_clients, skew_type)\n",
    "                    print(\"Accuracy\", fedavg_acc, sorted_heur_res[0][0],\n",
    "                        float(fedavg_acc) - sorted_heur_res[0][0])"
   ]
  }
 ],
 "metadata": {
  "interpreter": {
   "hash": "9bd034044bc82ac8c5d86c6c1f60b660a951d88d9f92616ab791d10eceb544fc"
  },
  "kernelspec": {
   "display_name": "sp_venv",
   "language": "python",
   "name": "python3"
  },
  "language_info": {
   "codemirror_mode": {
    "name": "ipython",
    "version": 3
   },
   "file_extension": ".py",
   "mimetype": "text/x-python",
   "name": "python",
   "nbconvert_exporter": "python",
   "pygments_lexer": "ipython3",
   "version": "3.9.7"
  }
 },
 "nbformat": 4,
 "nbformat_minor": 5
}
